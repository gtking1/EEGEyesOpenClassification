{
 "cells": [
  {
   "cell_type": "code",
   "execution_count": null,
   "id": "3505fb29",
   "metadata": {},
   "outputs": [],
   "source": [
    "import numpy as np\n",
    "from sklearn.model_selection import train_test_split\n",
    "from sklearn.metrics import confusion_matrix, ConfusionMatrixDisplay\n",
    "import torch\n",
    "from torch import nn\n",
    "import torch.nn.functional as F\n",
    "from tqdm import tqdm\n",
    "import matplotlib.pyplot as plt\n",
    "import seaborn as sns\n",
    "from torch.utils.data import Dataset, DataLoader\n",
    "import torchvision\n",
    "import torchvision.transforms as transforms\n",
    "import pandas as pd"
   ]
  },
  {
   "cell_type": "code",
   "execution_count": null,
   "id": "176a201c",
   "metadata": {},
   "outputs": [],
   "source": [
    "class ToTensor(object):\n",
    "    def __call__(self, sample):\n",
    "        window, labels = sample['window'], sample['labels']\n",
    "        return {'window': torch.tensor(window.values).unsqueeze(0).to(torch.float32), \n",
    "                'labels': torch.tensor(labels).to(torch.float32)}#.values)}\n",
    "\n",
    "class Normalize(object):\n",
    "    def __call__(self, sample):\n",
    "        window, labels = sample['window'], sample['labels']\n",
    "        return {'window': F.normalize(torch.abs(window)), \n",
    "                'labels': labels}\n",
    "\n",
    "class EEGDataset(Dataset):\n",
    "    def __init__(self, csv_file, transform=None):\n",
    "        self.csv_file = pd.read_csv(csv_file, delimiter='\\t', header=None)\n",
    "        self.transform = transform\n",
    "    \n",
    "    def __len__(self):\n",
    "        return len(self.csv_file)\n",
    "    \n",
    "    def __getitem__(self, idx):\n",
    "        # if idx >= len(self.csv_file) / 1250:\n",
    "        #     return\n",
    "\n",
    "        if torch.is_tensor(idx):\n",
    "            idx = idx.tolist()\n",
    "        \n",
    "        window = self.csv_file.iloc[idx*1250:idx*1250+1250, 7]\n",
    "        labels = [self.csv_file.iloc[idx*1250, 32]]#:idx*1250+1250, 32] # remove brackets for timestep prediction\n",
    "        sample = {'window': window, 'labels': labels}\n",
    "\n",
    "        if self.transform:\n",
    "            sample = self.transform(sample)\n",
    "        \n",
    "        return sample"
   ]
  },
  {
   "cell_type": "code",
   "execution_count": null,
   "id": "d7f50ddf",
   "metadata": {},
   "outputs": [],
   "source": [
    "eeg_dataset = EEGDataset(csv_file='./test.csv', transform=transforms.Compose([ToTensor(),\n",
    "                                                                              Normalize()]))\n",
    "eeg_dataset = torch.utils.data.Subset(eeg_dataset, range(0, 48))\n",
    "\n",
    "train_dataset, val_dataset, test_dataset = torch.utils.data.random_split(eeg_dataset, [0.6, 0.2, 0.2])\n",
    "\n",
    "print(len(train_dataset), len(val_dataset), len(test_dataset))"
   ]
  },
  {
   "cell_type": "code",
   "execution_count": null,
   "id": "2d515da0",
   "metadata": {},
   "outputs": [],
   "source": [
    "class EEGEyesOpenCloseClassifier(nn.Module):\n",
    "    def __init__(self):\n",
    "        super(EEGEyesOpenCloseClassifier, self).__init__()\n",
    "        self.conv1 = nn.Conv1d(1, 32, 5, stride=5)\n",
    "        self.pool1 = nn.AdaptiveAvgPool1d(1)\n",
    "        self.fc1 = nn.Linear(32, 32)\n",
    "        self.fc2 = nn.Linear(32, 1)\n",
    "\n",
    "    def forward(self, x):\n",
    "        x = self.conv1(x)\n",
    "        x = F.relu(x)\n",
    "        x = self.pool1(x)\n",
    "        x = x.squeeze(1)\n",
    "        x = self.fc1(x)\n",
    "        x = F.relu(x)\n",
    "        x = self.fc2(x)\n",
    "        x = F.sigmoid(x)\n",
    "        return x\n",
    "\n",
    "\n",
    "model = EEGEyesOpenCloseClassifier()"
   ]
  },
  {
   "cell_type": "code",
   "execution_count": null,
   "id": "0f38e4f8",
   "metadata": {},
   "outputs": [],
   "source": [
    "optimizer = torch.optim.Adam(model.parameters())\n",
    "criterion = nn.BCELoss()"
   ]
  },
  {
   "cell_type": "code",
   "execution_count": null,
   "id": "8f0852f3",
   "metadata": {},
   "outputs": [],
   "source": [
    "lossi = []\n",
    "\n",
    "model.train()\n",
    "for epoch in tqdm(range(100)):\n",
    "    optimizer.zero_grad()\n",
    "    y_pred = model(train_dataset[0]['window'])\n",
    "\n",
    "    # if epoch == 0:\n",
    "    #     print(y_pred)\n",
    "\n",
    "    loss = criterion(y_pred, train_dataset[0]['labels'])\n",
    "    lossi.append(loss.item())\n",
    "\n",
    "    loss.backward()\n",
    "    optimizer.step()\n",
    "    \n",
    "    # if epoch <= 1:\n",
    "    #     for p in model.parameters():\n",
    "    #         print(p.grad)\n",
    "    \n",
    "\n",
    "plt.plot(lossi)\n",
    "\n",
    "print(lossi)"
   ]
  }
 ],
 "metadata": {
  "kernelspec": {
   "display_name": "ml",
   "language": "python",
   "name": "python3"
  },
  "language_info": {
   "codemirror_mode": {
    "name": "ipython",
    "version": 3
   },
   "file_extension": ".py",
   "mimetype": "text/x-python",
   "name": "python",
   "nbconvert_exporter": "python",
   "pygments_lexer": "ipython3",
   "version": "3.10.18"
  }
 },
 "nbformat": 4,
 "nbformat_minor": 5
}
